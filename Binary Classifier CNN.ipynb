{
 "cells": [
  {
   "cell_type": "code",
   "execution_count": 1,
   "metadata": {},
   "outputs": [],
   "source": [
    "import pandas as pd\n",
    "import numpy as np\n",
    "import math"
   ]
  },
  {
   "cell_type": "markdown",
   "metadata": {},
   "source": [
    "# Loading Metadata and Waveforms"
   ]
  },
  {
   "cell_type": "code",
   "execution_count": 2,
   "metadata": {},
   "outputs": [],
   "source": [
    "#Loading metadata\n",
    "eq_meta = pd.read_csv('metadata/eq_meta.csv')\n",
    "noise_meta = pd.read_csv('metadata/noise_meta.csv')"
   ]
  },
  {
   "cell_type": "code",
   "execution_count": 3,
   "metadata": {},
   "outputs": [],
   "source": [
    "#Loading waveforms\n",
    "eq_waveforms = pd.read_csv('waveforms/eq_waveforms_acc.csv')\n",
    "noise_waveforms = pd.read_csv('waveforms/noise_waveforms_acc.csv')"
   ]
  },
  {
   "cell_type": "code",
   "execution_count": 4,
   "metadata": {},
   "outputs": [
    {
     "name": "stdout",
     "output_type": "stream",
     "text": [
      "Earthquake Metadata Shape = (200,35)\n",
      "Noise Metadata Shape = (200,35)\n",
      "Earthquake Waveforms Shape = (1188000,3)\n",
      "Noise Waveforms Shape = (1200000,3)\n"
     ]
    }
   ],
   "source": [
    "print('Earthquake Metadata Shape = (' + str(eq_meta.shape[0]) + ',' + str(eq_meta.shape[1]) + ')')\n",
    "print('Noise Metadata Shape = (' + str(noise_meta.shape[0]) + ',' + str(noise_meta.shape[1]) + ')')\n",
    "print('Earthquake Waveforms Shape = (' + str(eq_waveforms.shape[0]) + ',' + str(eq_waveforms.shape[1]) + ')')\n",
    "print('Noise Waveforms Shape = (' + str(noise_waveforms.shape[0]) + ',' + str(noise_waveforms.shape[1]) + ')')"
   ]
  },
  {
   "cell_type": "markdown",
   "metadata": {},
   "source": [
    "<p>Each Earthquake and Noise corresponds to 6000 samples (60 secs * 100Hz Frequncy)</p>\n",
    "<p>We have 198 Earthquakes and 200 Noise Waveforms</p>\n",
    "<p>(198*6000) = 1,180,000 Samples for earthquake</p>\n",
    "<p>(200*6000) = 1,200,000 Samples for noise</p>"
   ]
  },
  {
   "cell_type": "code",
   "execution_count": 5,
   "metadata": {},
   "outputs": [
    {
     "data": {
      "text/html": [
       "<div>\n",
       "<style scoped>\n",
       "    .dataframe tbody tr th:only-of-type {\n",
       "        vertical-align: middle;\n",
       "    }\n",
       "\n",
       "    .dataframe tbody tr th {\n",
       "        vertical-align: top;\n",
       "    }\n",
       "\n",
       "    .dataframe thead th {\n",
       "        text-align: right;\n",
       "    }\n",
       "</style>\n",
       "<table border=\"1\" class=\"dataframe\">\n",
       "  <thead>\n",
       "    <tr style=\"text-align: right;\">\n",
       "      <th></th>\n",
       "      <th>x</th>\n",
       "      <th>y</th>\n",
       "      <th>z</th>\n",
       "    </tr>\n",
       "  </thead>\n",
       "  <tbody>\n",
       "    <tr>\n",
       "      <td>0</td>\n",
       "      <td>7.458776e-11</td>\n",
       "      <td>-3.803954e-11</td>\n",
       "      <td>-3.994635e-10</td>\n",
       "    </tr>\n",
       "    <tr>\n",
       "      <td>1</td>\n",
       "      <td>2.104035e-10</td>\n",
       "      <td>1.069793e-10</td>\n",
       "      <td>-4.644220e-10</td>\n",
       "    </tr>\n",
       "    <tr>\n",
       "      <td>2</td>\n",
       "      <td>2.301925e-10</td>\n",
       "      <td>1.011196e-10</td>\n",
       "      <td>-4.678262e-10</td>\n",
       "    </tr>\n",
       "    <tr>\n",
       "      <td>3</td>\n",
       "      <td>4.019553e-10</td>\n",
       "      <td>8.202593e-11</td>\n",
       "      <td>-1.990608e-10</td>\n",
       "    </tr>\n",
       "    <tr>\n",
       "      <td>4</td>\n",
       "      <td>3.192288e-10</td>\n",
       "      <td>-1.724908e-10</td>\n",
       "      <td>-5.245854e-11</td>\n",
       "    </tr>\n",
       "  </tbody>\n",
       "</table>\n",
       "</div>"
      ],
      "text/plain": [
       "              x             y             z\n",
       "0  7.458776e-11 -3.803954e-11 -3.994635e-10\n",
       "1  2.104035e-10  1.069793e-10 -4.644220e-10\n",
       "2  2.301925e-10  1.011196e-10 -4.678262e-10\n",
       "3  4.019553e-10  8.202593e-11 -1.990608e-10\n",
       "4  3.192288e-10 -1.724908e-10 -5.245854e-11"
      ]
     },
     "execution_count": 5,
     "metadata": {},
     "output_type": "execute_result"
    }
   ],
   "source": [
    "eq_waveforms.head()"
   ]
  },
  {
   "cell_type": "code",
   "execution_count": 6,
   "metadata": {},
   "outputs": [
    {
     "data": {
      "text/html": [
       "<div>\n",
       "<style scoped>\n",
       "    .dataframe tbody tr th:only-of-type {\n",
       "        vertical-align: middle;\n",
       "    }\n",
       "\n",
       "    .dataframe tbody tr th {\n",
       "        vertical-align: top;\n",
       "    }\n",
       "\n",
       "    .dataframe thead th {\n",
       "        text-align: right;\n",
       "    }\n",
       "</style>\n",
       "<table border=\"1\" class=\"dataframe\">\n",
       "  <thead>\n",
       "    <tr style=\"text-align: right;\">\n",
       "      <th></th>\n",
       "      <th>x</th>\n",
       "      <th>y</th>\n",
       "      <th>z</th>\n",
       "    </tr>\n",
       "  </thead>\n",
       "  <tbody>\n",
       "    <tr>\n",
       "      <td>0</td>\n",
       "      <td>1.182854e-09</td>\n",
       "      <td>1.182854e-09</td>\n",
       "      <td>1.182854e-09</td>\n",
       "    </tr>\n",
       "    <tr>\n",
       "      <td>1</td>\n",
       "      <td>2.883696e-10</td>\n",
       "      <td>2.883696e-10</td>\n",
       "      <td>2.883696e-10</td>\n",
       "    </tr>\n",
       "    <tr>\n",
       "      <td>2</td>\n",
       "      <td>-1.036030e-09</td>\n",
       "      <td>-1.036030e-09</td>\n",
       "      <td>-1.036030e-09</td>\n",
       "    </tr>\n",
       "    <tr>\n",
       "      <td>3</td>\n",
       "      <td>-2.001298e-09</td>\n",
       "      <td>-2.001298e-09</td>\n",
       "      <td>-2.001298e-09</td>\n",
       "    </tr>\n",
       "    <tr>\n",
       "      <td>4</td>\n",
       "      <td>-2.127769e-09</td>\n",
       "      <td>-2.127769e-09</td>\n",
       "      <td>-2.127769e-09</td>\n",
       "    </tr>\n",
       "  </tbody>\n",
       "</table>\n",
       "</div>"
      ],
      "text/plain": [
       "              x             y             z\n",
       "0  1.182854e-09  1.182854e-09  1.182854e-09\n",
       "1  2.883696e-10  2.883696e-10  2.883696e-10\n",
       "2 -1.036030e-09 -1.036030e-09 -1.036030e-09\n",
       "3 -2.001298e-09 -2.001298e-09 -2.001298e-09\n",
       "4 -2.127769e-09 -2.127769e-09 -2.127769e-09"
      ]
     },
     "execution_count": 6,
     "metadata": {},
     "output_type": "execute_result"
    }
   ],
   "source": [
    "noise_waveforms.head()"
   ]
  },
  {
   "cell_type": "code",
   "execution_count": 7,
   "metadata": {},
   "outputs": [],
   "source": [
    "#Adding label columns to the df\n",
    "eq_waveforms['label'] = 'earthquake'\n",
    "noise_waveforms['label'] = 'noise'\n",
    "\n",
    "#Combining eq and noise dataframes\n",
    "dataset = pd.DataFrame(columns = ['x', 'y', 'z', 'label'], data = eq_waveforms)\n",
    "dataset = dataset.append(noise_waveforms, ignore_index = True)"
   ]
  },
  {
   "cell_type": "code",
   "execution_count": 8,
   "metadata": {},
   "outputs": [
    {
     "data": {
      "text/html": [
       "<div>\n",
       "<style scoped>\n",
       "    .dataframe tbody tr th:only-of-type {\n",
       "        vertical-align: middle;\n",
       "    }\n",
       "\n",
       "    .dataframe tbody tr th {\n",
       "        vertical-align: top;\n",
       "    }\n",
       "\n",
       "    .dataframe thead th {\n",
       "        text-align: right;\n",
       "    }\n",
       "</style>\n",
       "<table border=\"1\" class=\"dataframe\">\n",
       "  <thead>\n",
       "    <tr style=\"text-align: right;\">\n",
       "      <th></th>\n",
       "      <th>x</th>\n",
       "      <th>y</th>\n",
       "      <th>z</th>\n",
       "      <th>label</th>\n",
       "    </tr>\n",
       "  </thead>\n",
       "  <tbody>\n",
       "    <tr>\n",
       "      <td>0</td>\n",
       "      <td>7.458776e-11</td>\n",
       "      <td>-3.803954e-11</td>\n",
       "      <td>-3.994635e-10</td>\n",
       "      <td>earthquake</td>\n",
       "    </tr>\n",
       "    <tr>\n",
       "      <td>1</td>\n",
       "      <td>2.104035e-10</td>\n",
       "      <td>1.069793e-10</td>\n",
       "      <td>-4.644220e-10</td>\n",
       "      <td>earthquake</td>\n",
       "    </tr>\n",
       "    <tr>\n",
       "      <td>2</td>\n",
       "      <td>2.301925e-10</td>\n",
       "      <td>1.011196e-10</td>\n",
       "      <td>-4.678262e-10</td>\n",
       "      <td>earthquake</td>\n",
       "    </tr>\n",
       "    <tr>\n",
       "      <td>3</td>\n",
       "      <td>4.019553e-10</td>\n",
       "      <td>8.202593e-11</td>\n",
       "      <td>-1.990608e-10</td>\n",
       "      <td>earthquake</td>\n",
       "    </tr>\n",
       "    <tr>\n",
       "      <td>4</td>\n",
       "      <td>3.192288e-10</td>\n",
       "      <td>-1.724908e-10</td>\n",
       "      <td>-5.245854e-11</td>\n",
       "      <td>earthquake</td>\n",
       "    </tr>\n",
       "  </tbody>\n",
       "</table>\n",
       "</div>"
      ],
      "text/plain": [
       "              x             y             z       label\n",
       "0  7.458776e-11 -3.803954e-11 -3.994635e-10  earthquake\n",
       "1  2.104035e-10  1.069793e-10 -4.644220e-10  earthquake\n",
       "2  2.301925e-10  1.011196e-10 -4.678262e-10  earthquake\n",
       "3  4.019553e-10  8.202593e-11 -1.990608e-10  earthquake\n",
       "4  3.192288e-10 -1.724908e-10 -5.245854e-11  earthquake"
      ]
     },
     "execution_count": 8,
     "metadata": {},
     "output_type": "execute_result"
    }
   ],
   "source": [
    "dataset.head()"
   ]
  },
  {
   "cell_type": "code",
   "execution_count": 9,
   "metadata": {},
   "outputs": [
    {
     "data": {
      "text/html": [
       "<div>\n",
       "<style scoped>\n",
       "    .dataframe tbody tr th:only-of-type {\n",
       "        vertical-align: middle;\n",
       "    }\n",
       "\n",
       "    .dataframe tbody tr th {\n",
       "        vertical-align: top;\n",
       "    }\n",
       "\n",
       "    .dataframe thead th {\n",
       "        text-align: right;\n",
       "    }\n",
       "</style>\n",
       "<table border=\"1\" class=\"dataframe\">\n",
       "  <thead>\n",
       "    <tr style=\"text-align: right;\">\n",
       "      <th></th>\n",
       "      <th>x</th>\n",
       "      <th>y</th>\n",
       "      <th>z</th>\n",
       "      <th>label</th>\n",
       "    </tr>\n",
       "  </thead>\n",
       "  <tbody>\n",
       "    <tr>\n",
       "      <td>2387995</td>\n",
       "      <td>-9.575840e-11</td>\n",
       "      <td>-9.575840e-11</td>\n",
       "      <td>-9.575840e-11</td>\n",
       "      <td>noise</td>\n",
       "    </tr>\n",
       "    <tr>\n",
       "      <td>2387996</td>\n",
       "      <td>-1.045694e-10</td>\n",
       "      <td>-1.045694e-10</td>\n",
       "      <td>-1.045694e-10</td>\n",
       "      <td>noise</td>\n",
       "    </tr>\n",
       "    <tr>\n",
       "      <td>2387997</td>\n",
       "      <td>-4.178718e-11</td>\n",
       "      <td>-4.178718e-11</td>\n",
       "      <td>-4.178718e-11</td>\n",
       "      <td>noise</td>\n",
       "    </tr>\n",
       "    <tr>\n",
       "      <td>2387998</td>\n",
       "      <td>-5.187718e-11</td>\n",
       "      <td>-5.187718e-11</td>\n",
       "      <td>-5.187718e-11</td>\n",
       "      <td>noise</td>\n",
       "    </tr>\n",
       "    <tr>\n",
       "      <td>2387999</td>\n",
       "      <td>-5.341233e-11</td>\n",
       "      <td>-5.341233e-11</td>\n",
       "      <td>-5.341233e-11</td>\n",
       "      <td>noise</td>\n",
       "    </tr>\n",
       "  </tbody>\n",
       "</table>\n",
       "</div>"
      ],
      "text/plain": [
       "                    x             y             z  label\n",
       "2387995 -9.575840e-11 -9.575840e-11 -9.575840e-11  noise\n",
       "2387996 -1.045694e-10 -1.045694e-10 -1.045694e-10  noise\n",
       "2387997 -4.178718e-11 -4.178718e-11 -4.178718e-11  noise\n",
       "2387998 -5.187718e-11 -5.187718e-11 -5.187718e-11  noise\n",
       "2387999 -5.341233e-11 -5.341233e-11 -5.341233e-11  noise"
      ]
     },
     "execution_count": 9,
     "metadata": {},
     "output_type": "execute_result"
    }
   ],
   "source": [
    "dataset.tail()"
   ]
  },
  {
   "cell_type": "code",
   "execution_count": 10,
   "metadata": {},
   "outputs": [
    {
     "data": {
      "text/plain": [
       "x        float64\n",
       "y        float64\n",
       "z        float64\n",
       "label     object\n",
       "dtype: object"
      ]
     },
     "execution_count": 10,
     "metadata": {},
     "output_type": "execute_result"
    }
   ],
   "source": [
    "dataset.dtypes"
   ]
  },
  {
   "cell_type": "code",
   "execution_count": null,
   "metadata": {},
   "outputs": [],
   "source": []
  },
  {
   "cell_type": "markdown",
   "metadata": {},
   "source": [
    "# Label Encoding"
   ]
  },
  {
   "cell_type": "code",
   "execution_count": 11,
   "metadata": {},
   "outputs": [],
   "source": [
    "from sklearn.preprocessing import LabelEncoder"
   ]
  },
  {
   "cell_type": "code",
   "execution_count": 12,
   "metadata": {},
   "outputs": [
    {
     "data": {
      "text/html": [
       "<div>\n",
       "<style scoped>\n",
       "    .dataframe tbody tr th:only-of-type {\n",
       "        vertical-align: middle;\n",
       "    }\n",
       "\n",
       "    .dataframe tbody tr th {\n",
       "        vertical-align: top;\n",
       "    }\n",
       "\n",
       "    .dataframe thead th {\n",
       "        text-align: right;\n",
       "    }\n",
       "</style>\n",
       "<table border=\"1\" class=\"dataframe\">\n",
       "  <thead>\n",
       "    <tr style=\"text-align: right;\">\n",
       "      <th></th>\n",
       "      <th>x</th>\n",
       "      <th>y</th>\n",
       "      <th>z</th>\n",
       "      <th>label</th>\n",
       "    </tr>\n",
       "  </thead>\n",
       "  <tbody>\n",
       "    <tr>\n",
       "      <td>0</td>\n",
       "      <td>7.458776e-11</td>\n",
       "      <td>-3.803954e-11</td>\n",
       "      <td>-3.994635e-10</td>\n",
       "      <td>0</td>\n",
       "    </tr>\n",
       "    <tr>\n",
       "      <td>1</td>\n",
       "      <td>2.104035e-10</td>\n",
       "      <td>1.069793e-10</td>\n",
       "      <td>-4.644220e-10</td>\n",
       "      <td>0</td>\n",
       "    </tr>\n",
       "    <tr>\n",
       "      <td>2</td>\n",
       "      <td>2.301925e-10</td>\n",
       "      <td>1.011196e-10</td>\n",
       "      <td>-4.678262e-10</td>\n",
       "      <td>0</td>\n",
       "    </tr>\n",
       "    <tr>\n",
       "      <td>3</td>\n",
       "      <td>4.019553e-10</td>\n",
       "      <td>8.202593e-11</td>\n",
       "      <td>-1.990608e-10</td>\n",
       "      <td>0</td>\n",
       "    </tr>\n",
       "    <tr>\n",
       "      <td>4</td>\n",
       "      <td>3.192288e-10</td>\n",
       "      <td>-1.724908e-10</td>\n",
       "      <td>-5.245854e-11</td>\n",
       "      <td>0</td>\n",
       "    </tr>\n",
       "  </tbody>\n",
       "</table>\n",
       "</div>"
      ],
      "text/plain": [
       "              x             y             z  label\n",
       "0  7.458776e-11 -3.803954e-11 -3.994635e-10      0\n",
       "1  2.104035e-10  1.069793e-10 -4.644220e-10      0\n",
       "2  2.301925e-10  1.011196e-10 -4.678262e-10      0\n",
       "3  4.019553e-10  8.202593e-11 -1.990608e-10      0\n",
       "4  3.192288e-10 -1.724908e-10 -5.245854e-11      0"
      ]
     },
     "execution_count": 12,
     "metadata": {},
     "output_type": "execute_result"
    }
   ],
   "source": [
    "label = LabelEncoder()\n",
    "#Changing categorical labels to encoded labels\n",
    "dataset['label'] = label.fit_transform(dataset['label'])\n",
    "dataset.head()"
   ]
  },
  {
   "cell_type": "code",
   "execution_count": 13,
   "metadata": {},
   "outputs": [
    {
     "data": {
      "text/html": [
       "<div>\n",
       "<style scoped>\n",
       "    .dataframe tbody tr th:only-of-type {\n",
       "        vertical-align: middle;\n",
       "    }\n",
       "\n",
       "    .dataframe tbody tr th {\n",
       "        vertical-align: top;\n",
       "    }\n",
       "\n",
       "    .dataframe thead th {\n",
       "        text-align: right;\n",
       "    }\n",
       "</style>\n",
       "<table border=\"1\" class=\"dataframe\">\n",
       "  <thead>\n",
       "    <tr style=\"text-align: right;\">\n",
       "      <th></th>\n",
       "      <th>x</th>\n",
       "      <th>y</th>\n",
       "      <th>z</th>\n",
       "      <th>label</th>\n",
       "    </tr>\n",
       "  </thead>\n",
       "  <tbody>\n",
       "    <tr>\n",
       "      <td>2387995</td>\n",
       "      <td>-9.575840e-11</td>\n",
       "      <td>-9.575840e-11</td>\n",
       "      <td>-9.575840e-11</td>\n",
       "      <td>1</td>\n",
       "    </tr>\n",
       "    <tr>\n",
       "      <td>2387996</td>\n",
       "      <td>-1.045694e-10</td>\n",
       "      <td>-1.045694e-10</td>\n",
       "      <td>-1.045694e-10</td>\n",
       "      <td>1</td>\n",
       "    </tr>\n",
       "    <tr>\n",
       "      <td>2387997</td>\n",
       "      <td>-4.178718e-11</td>\n",
       "      <td>-4.178718e-11</td>\n",
       "      <td>-4.178718e-11</td>\n",
       "      <td>1</td>\n",
       "    </tr>\n",
       "    <tr>\n",
       "      <td>2387998</td>\n",
       "      <td>-5.187718e-11</td>\n",
       "      <td>-5.187718e-11</td>\n",
       "      <td>-5.187718e-11</td>\n",
       "      <td>1</td>\n",
       "    </tr>\n",
       "    <tr>\n",
       "      <td>2387999</td>\n",
       "      <td>-5.341233e-11</td>\n",
       "      <td>-5.341233e-11</td>\n",
       "      <td>-5.341233e-11</td>\n",
       "      <td>1</td>\n",
       "    </tr>\n",
       "  </tbody>\n",
       "</table>\n",
       "</div>"
      ],
      "text/plain": [
       "                    x             y             z  label\n",
       "2387995 -9.575840e-11 -9.575840e-11 -9.575840e-11      1\n",
       "2387996 -1.045694e-10 -1.045694e-10 -1.045694e-10      1\n",
       "2387997 -4.178718e-11 -4.178718e-11 -4.178718e-11      1\n",
       "2387998 -5.187718e-11 -5.187718e-11 -5.187718e-11      1\n",
       "2387999 -5.341233e-11 -5.341233e-11 -5.341233e-11      1"
      ]
     },
     "execution_count": 13,
     "metadata": {},
     "output_type": "execute_result"
    }
   ],
   "source": [
    "# earthquake is encoded as 0 and noise is encoded as 1\n",
    "dataset.tail()"
   ]
  },
  {
   "cell_type": "code",
   "execution_count": 14,
   "metadata": {},
   "outputs": [
    {
     "data": {
      "text/plain": [
       "x        float64\n",
       "y        float64\n",
       "z        float64\n",
       "label      int32\n",
       "dtype: object"
      ]
     },
     "execution_count": 14,
     "metadata": {},
     "output_type": "execute_result"
    }
   ],
   "source": [
    "dataset.dtypes"
   ]
  },
  {
   "cell_type": "code",
   "execution_count": 15,
   "metadata": {},
   "outputs": [
    {
     "data": {
      "text/plain": [
       "array(['earthquake', 'noise'], dtype=object)"
      ]
     },
     "execution_count": 15,
     "metadata": {},
     "output_type": "execute_result"
    }
   ],
   "source": [
    "label.classes_"
   ]
  },
  {
   "cell_type": "markdown",
   "metadata": {},
   "source": [
    "# Normalizing Data"
   ]
  },
  {
   "cell_type": "code",
   "execution_count": 16,
   "metadata": {},
   "outputs": [],
   "source": [
    "from sklearn.preprocessing import StandardScaler"
   ]
  },
  {
   "cell_type": "code",
   "execution_count": 17,
   "metadata": {},
   "outputs": [],
   "source": [
    "X = dataset[['x', 'y', 'z']]\n",
    "y = dataset['label']"
   ]
  },
  {
   "cell_type": "code",
   "execution_count": 18,
   "metadata": {},
   "outputs": [
    {
     "data": {
      "text/html": [
       "<div>\n",
       "<style scoped>\n",
       "    .dataframe tbody tr th:only-of-type {\n",
       "        vertical-align: middle;\n",
       "    }\n",
       "\n",
       "    .dataframe tbody tr th {\n",
       "        vertical-align: top;\n",
       "    }\n",
       "\n",
       "    .dataframe thead th {\n",
       "        text-align: right;\n",
       "    }\n",
       "</style>\n",
       "<table border=\"1\" class=\"dataframe\">\n",
       "  <thead>\n",
       "    <tr style=\"text-align: right;\">\n",
       "      <th></th>\n",
       "      <th>x</th>\n",
       "      <th>y</th>\n",
       "      <th>z</th>\n",
       "    </tr>\n",
       "  </thead>\n",
       "  <tbody>\n",
       "    <tr>\n",
       "      <td>0</td>\n",
       "      <td>7.458776e-11</td>\n",
       "      <td>-3.803954e-11</td>\n",
       "      <td>-3.994635e-10</td>\n",
       "    </tr>\n",
       "    <tr>\n",
       "      <td>1</td>\n",
       "      <td>2.104035e-10</td>\n",
       "      <td>1.069793e-10</td>\n",
       "      <td>-4.644220e-10</td>\n",
       "    </tr>\n",
       "    <tr>\n",
       "      <td>2</td>\n",
       "      <td>2.301925e-10</td>\n",
       "      <td>1.011196e-10</td>\n",
       "      <td>-4.678262e-10</td>\n",
       "    </tr>\n",
       "    <tr>\n",
       "      <td>3</td>\n",
       "      <td>4.019553e-10</td>\n",
       "      <td>8.202593e-11</td>\n",
       "      <td>-1.990608e-10</td>\n",
       "    </tr>\n",
       "    <tr>\n",
       "      <td>4</td>\n",
       "      <td>3.192288e-10</td>\n",
       "      <td>-1.724908e-10</td>\n",
       "      <td>-5.245854e-11</td>\n",
       "    </tr>\n",
       "  </tbody>\n",
       "</table>\n",
       "</div>"
      ],
      "text/plain": [
       "              x             y             z\n",
       "0  7.458776e-11 -3.803954e-11 -3.994635e-10\n",
       "1  2.104035e-10  1.069793e-10 -4.644220e-10\n",
       "2  2.301925e-10  1.011196e-10 -4.678262e-10\n",
       "3  4.019553e-10  8.202593e-11 -1.990608e-10\n",
       "4  3.192288e-10 -1.724908e-10 -5.245854e-11"
      ]
     },
     "execution_count": 18,
     "metadata": {},
     "output_type": "execute_result"
    }
   ],
   "source": [
    "X.head()"
   ]
  },
  {
   "cell_type": "code",
   "execution_count": 19,
   "metadata": {},
   "outputs": [
    {
     "data": {
      "text/plain": [
       "0    0\n",
       "1    0\n",
       "2    0\n",
       "3    0\n",
       "4    0\n",
       "Name: label, dtype: int32"
      ]
     },
     "execution_count": 19,
     "metadata": {},
     "output_type": "execute_result"
    }
   ],
   "source": [
    "y.head()"
   ]
  },
  {
   "cell_type": "code",
   "execution_count": 20,
   "metadata": {},
   "outputs": [
    {
     "data": {
      "text/html": [
       "<div>\n",
       "<style scoped>\n",
       "    .dataframe tbody tr th:only-of-type {\n",
       "        vertical-align: middle;\n",
       "    }\n",
       "\n",
       "    .dataframe tbody tr th {\n",
       "        vertical-align: top;\n",
       "    }\n",
       "\n",
       "    .dataframe thead th {\n",
       "        text-align: right;\n",
       "    }\n",
       "</style>\n",
       "<table border=\"1\" class=\"dataframe\">\n",
       "  <thead>\n",
       "    <tr style=\"text-align: right;\">\n",
       "      <th></th>\n",
       "      <th>x</th>\n",
       "      <th>y</th>\n",
       "      <th>z</th>\n",
       "      <th>label</th>\n",
       "    </tr>\n",
       "  </thead>\n",
       "  <tbody>\n",
       "    <tr>\n",
       "      <td>0</td>\n",
       "      <td>2.024606e-08</td>\n",
       "      <td>4.412416e-08</td>\n",
       "      <td>2.827076e-07</td>\n",
       "      <td>0</td>\n",
       "    </tr>\n",
       "    <tr>\n",
       "      <td>1</td>\n",
       "      <td>5.544787e-08</td>\n",
       "      <td>8.669622e-08</td>\n",
       "      <td>2.601815e-07</td>\n",
       "      <td>0</td>\n",
       "    </tr>\n",
       "    <tr>\n",
       "      <td>2</td>\n",
       "      <td>6.057692e-08</td>\n",
       "      <td>8.497604e-08</td>\n",
       "      <td>2.590010e-07</td>\n",
       "      <td>0</td>\n",
       "    </tr>\n",
       "    <tr>\n",
       "      <td>3</td>\n",
       "      <td>1.050958e-07</td>\n",
       "      <td>7.937085e-08</td>\n",
       "      <td>3.522027e-07</td>\n",
       "      <td>0</td>\n",
       "    </tr>\n",
       "    <tr>\n",
       "      <td>4</td>\n",
       "      <td>8.365406e-08</td>\n",
       "      <td>4.654332e-09</td>\n",
       "      <td>4.030410e-07</td>\n",
       "      <td>0</td>\n",
       "    </tr>\n",
       "    <tr>\n",
       "      <td>...</td>\n",
       "      <td>...</td>\n",
       "      <td>...</td>\n",
       "      <td>...</td>\n",
       "      <td>...</td>\n",
       "    </tr>\n",
       "    <tr>\n",
       "      <td>2387995</td>\n",
       "      <td>-2.390562e-08</td>\n",
       "      <td>2.718008e-08</td>\n",
       "      <td>3.880256e-07</td>\n",
       "      <td>1</td>\n",
       "    </tr>\n",
       "    <tr>\n",
       "      <td>2387996</td>\n",
       "      <td>-2.618932e-08</td>\n",
       "      <td>2.459351e-08</td>\n",
       "      <td>3.849701e-07</td>\n",
       "      <td>1</td>\n",
       "    </tr>\n",
       "    <tr>\n",
       "      <td>2387997</td>\n",
       "      <td>-9.916930e-09</td>\n",
       "      <td>4.302400e-08</td>\n",
       "      <td>4.067415e-07</td>\n",
       "      <td>1</td>\n",
       "    </tr>\n",
       "    <tr>\n",
       "      <td>2387998</td>\n",
       "      <td>-1.253214e-08</td>\n",
       "      <td>4.006195e-08</td>\n",
       "      <td>4.032426e-07</td>\n",
       "      <td>1</td>\n",
       "    </tr>\n",
       "    <tr>\n",
       "      <td>2387999</td>\n",
       "      <td>-1.293003e-08</td>\n",
       "      <td>3.961129e-08</td>\n",
       "      <td>4.027102e-07</td>\n",
       "      <td>1</td>\n",
       "    </tr>\n",
       "  </tbody>\n",
       "</table>\n",
       "<p>2388000 rows × 4 columns</p>\n",
       "</div>"
      ],
      "text/plain": [
       "                    x             y             z  label\n",
       "0        2.024606e-08  4.412416e-08  2.827076e-07      0\n",
       "1        5.544787e-08  8.669622e-08  2.601815e-07      0\n",
       "2        6.057692e-08  8.497604e-08  2.590010e-07      0\n",
       "3        1.050958e-07  7.937085e-08  3.522027e-07      0\n",
       "4        8.365406e-08  4.654332e-09  4.030410e-07      0\n",
       "...               ...           ...           ...    ...\n",
       "2387995 -2.390562e-08  2.718008e-08  3.880256e-07      1\n",
       "2387996 -2.618932e-08  2.459351e-08  3.849701e-07      1\n",
       "2387997 -9.916930e-09  4.302400e-08  4.067415e-07      1\n",
       "2387998 -1.253214e-08  4.006195e-08  4.032426e-07      1\n",
       "2387999 -1.293003e-08  3.961129e-08  4.027102e-07      1\n",
       "\n",
       "[2388000 rows x 4 columns]"
      ]
     },
     "execution_count": 20,
     "metadata": {},
     "output_type": "execute_result"
    }
   ],
   "source": [
    "#Standardizing independent variables\n",
    "scaler = StandardScaler()\n",
    "X = scaler.fit_transform(X)\n",
    "\n",
    "scaled_X = pd.DataFrame(data = X, columns = ['x', 'y', 'z'])\n",
    "scaled_X['label'] = y.values\n",
    "\n",
    "scaled_X"
   ]
  },
  {
   "cell_type": "markdown",
   "metadata": {},
   "source": [
    "# Frame Preparation"
   ]
  },
  {
   "cell_type": "code",
   "execution_count": 21,
   "metadata": {},
   "outputs": [],
   "source": [
    "import scipy.stats as stats"
   ]
  },
  {
   "cell_type": "code",
   "execution_count": 22,
   "metadata": {},
   "outputs": [],
   "source": [
    "frequency = 100\n",
    "frame_size = frequency*60 # 6000 records for 60 secs\n",
    "hop_size = frame_size # 6000 - No Overlapping occurs"
   ]
  },
  {
   "cell_type": "code",
   "execution_count": 23,
   "metadata": {},
   "outputs": [],
   "source": [
    "def get_frames(df, frame_size, hop_size):\n",
    "\n",
    "    N_FEATURES = 3\n",
    "\n",
    "    frames = []\n",
    "    labels = []\n",
    "    \n",
    "    for i in range(0, (len(df) - frame_size)+1, hop_size):\n",
    "        x = df['x'].values[i: i + frame_size] # makes flat np array for x\n",
    "        y = df['y'].values[i: i + frame_size] # makes flat np array for y\n",
    "        z = df['z'].values[i: i + frame_size] # makes flat np array for z\n",
    "        \n",
    "        # Retrieve the most often used label in this segment\n",
    "        label = stats.mode(df['label'][i: i + frame_size])[0][0]\n",
    "        frames.append([x, y, z])\n",
    "        labels.append(label)\n",
    "\n",
    "    # Bring the segments into a better shape\n",
    "    frames = np.asarray(frames).reshape(-1, frame_size, N_FEATURES) #1D Array for -1\n",
    "    labels = np.asarray(labels)\n",
    "\n",
    "    return frames, labels"
   ]
  },
  {
   "cell_type": "code",
   "execution_count": 24,
   "metadata": {},
   "outputs": [],
   "source": [
    "X, y = get_frames(scaled_X, frame_size, hop_size)"
   ]
  },
  {
   "cell_type": "code",
   "execution_count": 25,
   "metadata": {},
   "outputs": [],
   "source": [
    "#testFile = pd.read_csv('waveforms/test_data_acc.csv')"
   ]
  },
  {
   "cell_type": "code",
   "execution_count": 26,
   "metadata": {},
   "outputs": [],
   "source": [
    "#validationX, validationY = get_frames(testFile, frame_size, hop_size)"
   ]
  },
  {
   "cell_type": "code",
   "execution_count": 27,
   "metadata": {},
   "outputs": [],
   "source": [
    "#validationX.shape"
   ]
  },
  {
   "cell_type": "code",
   "execution_count": 28,
   "metadata": {},
   "outputs": [
    {
     "data": {
      "text/plain": [
       "(398,)"
      ]
     },
     "execution_count": 28,
     "metadata": {},
     "output_type": "execute_result"
    }
   ],
   "source": [
    "y.shape"
   ]
  },
  {
   "cell_type": "code",
   "execution_count": 29,
   "metadata": {},
   "outputs": [
    {
     "data": {
      "text/plain": [
       "(398, 6000, 3)"
      ]
     },
     "execution_count": 29,
     "metadata": {},
     "output_type": "execute_result"
    }
   ],
   "source": [
    "X.shape"
   ]
  },
  {
   "cell_type": "code",
   "execution_count": 30,
   "metadata": {},
   "outputs": [],
   "source": [
    "unique, counts = np.unique(y, return_counts=True)"
   ]
  },
  {
   "cell_type": "code",
   "execution_count": 31,
   "metadata": {},
   "outputs": [
    {
     "data": {
      "text/plain": [
       "(array([0, 1]), array([198, 200], dtype=int64))"
      ]
     },
     "execution_count": 31,
     "metadata": {},
     "output_type": "execute_result"
    }
   ],
   "source": [
    "unique, counts"
   ]
  },
  {
   "cell_type": "markdown",
   "metadata": {},
   "source": [
    "# 2D CNN for Classifying 'Earthquake' and 'Noise'\n"
   ]
  },
  {
   "cell_type": "code",
   "execution_count": 32,
   "metadata": {},
   "outputs": [
    {
     "name": "stdout",
     "output_type": "stream",
     "text": [
      "2.0.0\n"
     ]
    }
   ],
   "source": [
    "import tensorflow as tf\n",
    "from tensorflow.keras import Sequential\n",
    "from tensorflow.keras.layers import Flatten, Dense, Dropout, BatchNormalization\n",
    "from tensorflow.keras.layers import Conv2D, MaxPool2D\n",
    "from tensorflow.keras.optimizers import Adam\n",
    "print(tf.__version__)"
   ]
  },
  {
   "cell_type": "code",
   "execution_count": 33,
   "metadata": {},
   "outputs": [],
   "source": [
    "from sklearn.model_selection import train_test_split"
   ]
  },
  {
   "cell_type": "code",
   "execution_count": 297,
   "metadata": {},
   "outputs": [],
   "source": [
    "X_train, X_test, y_train, y_test = train_test_split(X, y, test_size = 0.2, random_state = 0, stratify = y)"
   ]
  },
  {
   "cell_type": "code",
   "execution_count": 298,
   "metadata": {},
   "outputs": [
    {
     "data": {
      "text/plain": [
       "((318, 6000, 3), (80, 6000, 3))"
      ]
     },
     "execution_count": 298,
     "metadata": {},
     "output_type": "execute_result"
    }
   ],
   "source": [
    "X_train.shape, X_test.shape"
   ]
  },
  {
   "cell_type": "code",
   "execution_count": 299,
   "metadata": {},
   "outputs": [
    {
     "data": {
      "text/plain": [
       "((318,), (80,))"
      ]
     },
     "execution_count": 299,
     "metadata": {},
     "output_type": "execute_result"
    }
   ],
   "source": [
    "y_train.shape, y_test.shape"
   ]
  },
  {
   "cell_type": "code",
   "execution_count": 300,
   "metadata": {},
   "outputs": [],
   "source": [
    "# 0.25 x 0.8 = 0.2\n",
    "X_train, X_val, y_train, y_val = train_test_split(X_train, y_train, test_size=0.25, random_state=0, stratify = y_train)"
   ]
  },
  {
   "cell_type": "code",
   "execution_count": 301,
   "metadata": {},
   "outputs": [
    {
     "data": {
      "text/plain": [
       "((238, 6000, 3), (238,))"
      ]
     },
     "execution_count": 301,
     "metadata": {},
     "output_type": "execute_result"
    }
   ],
   "source": [
    "X_train.shape, y_train.shape"
   ]
  },
  {
   "cell_type": "code",
   "execution_count": 302,
   "metadata": {},
   "outputs": [
    {
     "data": {
      "text/plain": [
       "((80, 6000, 3), (80,))"
      ]
     },
     "execution_count": 302,
     "metadata": {},
     "output_type": "execute_result"
    }
   ],
   "source": [
    "X_test.shape, y_test.shape"
   ]
  },
  {
   "cell_type": "code",
   "execution_count": 303,
   "metadata": {},
   "outputs": [
    {
     "data": {
      "text/plain": [
       "((80, 6000, 3), (80,))"
      ]
     },
     "execution_count": 303,
     "metadata": {},
     "output_type": "execute_result"
    }
   ],
   "source": [
    "X_val.shape, y_val.shape"
   ]
  },
  {
   "cell_type": "code",
   "execution_count": 304,
   "metadata": {},
   "outputs": [
    {
     "data": {
      "text/plain": [
       "(6000, 3)"
      ]
     },
     "execution_count": 304,
     "metadata": {},
     "output_type": "execute_result"
    }
   ],
   "source": [
    "X_train[0].shape"
   ]
  },
  {
   "cell_type": "code",
   "execution_count": 305,
   "metadata": {},
   "outputs": [
    {
     "data": {
      "text/plain": [
       "238"
      ]
     },
     "execution_count": 305,
     "metadata": {},
     "output_type": "execute_result"
    }
   ],
   "source": [
    "X_train.shape[0]"
   ]
  },
  {
   "cell_type": "code",
   "execution_count": 306,
   "metadata": {},
   "outputs": [
    {
     "data": {
      "text/plain": [
       "80"
      ]
     },
     "execution_count": 306,
     "metadata": {},
     "output_type": "execute_result"
    }
   ],
   "source": [
    "X_test.shape[0]"
   ]
  },
  {
   "cell_type": "code",
   "execution_count": 307,
   "metadata": {},
   "outputs": [],
   "source": [
    "X_train = X_train.reshape(X_train.shape[0], 6000, 3, 1)\n",
    "X_test = X_test.reshape(X_test.shape[0], 6000, 3, 1)"
   ]
  },
  {
   "cell_type": "code",
   "execution_count": 308,
   "metadata": {},
   "outputs": [
    {
     "data": {
      "text/plain": [
       "((6000, 3, 1), (6000, 3, 1))"
      ]
     },
     "execution_count": 308,
     "metadata": {},
     "output_type": "execute_result"
    }
   ],
   "source": [
    "X_train[0].shape, X_test[0].shape"
   ]
  },
  {
   "cell_type": "code",
   "execution_count": 309,
   "metadata": {},
   "outputs": [],
   "source": [
    "model = Sequential()\n",
    "model.add(Conv2D(16, (2, 2), activation = 'relu', input_shape = X_train[0].shape))\n",
    "model.add(Dropout(0.2))\n",
    "\n",
    "model.add(Conv2D(32, (2, 2), activation='relu'))\n",
    "model.add(Dropout(0.2))\n",
    "\n",
    "model.add(Flatten())\n",
    "\n",
    "model.add(Dense(64, activation = 'relu'))\n",
    "model.add(Dropout(0.4))\n",
    "\n",
    "model.add(Dense(2, activation='softmax'))"
   ]
  },
  {
   "cell_type": "code",
   "execution_count": 310,
   "metadata": {},
   "outputs": [],
   "source": [
    "model.compile(optimizer=Adam(learning_rate = 0.001), loss = 'sparse_categorical_crossentropy', metrics = ['accuracy'])"
   ]
  },
  {
   "cell_type": "code",
   "execution_count": 311,
   "metadata": {},
   "outputs": [
    {
     "name": "stdout",
     "output_type": "stream",
     "text": [
      "Train on 238 samples, validate on 80 samples\n",
      "Epoch 1/50\n",
      "238/238 [==============================] - 2s 10ms/sample - loss: 0.6483 - accuracy: 0.5798 - val_loss: 0.6084 - val_accuracy: 0.6750\n",
      "Epoch 2/50\n",
      "238/238 [==============================] - 2s 8ms/sample - loss: 1.1713 - accuracy: 0.6849 - val_loss: 0.5940 - val_accuracy: 0.6375\n",
      "Epoch 3/50\n",
      "238/238 [==============================] - 2s 8ms/sample - loss: 0.6044 - accuracy: 0.6303 - val_loss: 0.5840 - val_accuracy: 0.6375\n",
      "Epoch 4/50\n",
      "238/238 [==============================] - 2s 8ms/sample - loss: 0.5562 - accuracy: 0.7101 - val_loss: 0.5807 - val_accuracy: 0.6500\n",
      "Epoch 5/50\n",
      "238/238 [==============================] - 2s 8ms/sample - loss: 0.5516 - accuracy: 0.6975 - val_loss: 0.5656 - val_accuracy: 0.8500\n",
      "Epoch 6/50\n",
      "238/238 [==============================] - 2s 8ms/sample - loss: 0.5388 - accuracy: 0.6681 - val_loss: 0.5431 - val_accuracy: 0.7875\n",
      "Epoch 7/50\n",
      "238/238 [==============================] - 2s 8ms/sample - loss: 0.4920 - accuracy: 0.7731 - val_loss: 0.5260 - val_accuracy: 0.7125\n",
      "Epoch 8/50\n",
      "238/238 [==============================] - 2s 8ms/sample - loss: 0.7538 - accuracy: 0.7605 - val_loss: 0.5161 - val_accuracy: 0.7625\n",
      "Epoch 9/50\n",
      "238/238 [==============================] - 2s 8ms/sample - loss: 0.4745 - accuracy: 0.7647 - val_loss: 0.5224 - val_accuracy: 0.7125\n",
      "Epoch 10/50\n",
      "238/238 [==============================] - 2s 8ms/sample - loss: 0.4829 - accuracy: 0.7311 - val_loss: 0.5234 - val_accuracy: 0.8375\n",
      "Epoch 11/50\n",
      "238/238 [==============================] - 2s 8ms/sample - loss: 0.4667 - accuracy: 0.7899 - val_loss: 0.4966 - val_accuracy: 0.7625\n",
      "Epoch 12/50\n",
      "238/238 [==============================] - 2s 8ms/sample - loss: 0.4549 - accuracy: 0.7731 - val_loss: 0.5279 - val_accuracy: 0.6000\n",
      "Epoch 13/50\n",
      "238/238 [==============================] - 2s 9ms/sample - loss: 0.5338 - accuracy: 0.7605 - val_loss: 0.5184 - val_accuracy: 0.8000\n",
      "Epoch 14/50\n",
      "238/238 [==============================] - 2s 8ms/sample - loss: 0.4521 - accuracy: 0.7941 - val_loss: 0.4948 - val_accuracy: 0.7125\n",
      "Epoch 15/50\n",
      "238/238 [==============================] - 2s 8ms/sample - loss: 0.4418 - accuracy: 0.7941 - val_loss: 0.4842 - val_accuracy: 0.8625\n",
      "Epoch 16/50\n",
      "238/238 [==============================] - 2s 8ms/sample - loss: 0.4315 - accuracy: 0.8319 - val_loss: 0.4696 - val_accuracy: 0.8125\n",
      "Epoch 17/50\n",
      "238/238 [==============================] - 2s 8ms/sample - loss: 0.4217 - accuracy: 0.8025 - val_loss: 0.4604 - val_accuracy: 0.8625\n",
      "Epoch 18/50\n",
      "238/238 [==============================] - 2s 9ms/sample - loss: 0.4125 - accuracy: 0.8529 - val_loss: 0.4849 - val_accuracy: 0.7750\n",
      "Epoch 19/50\n",
      "238/238 [==============================] - 2s 9ms/sample - loss: 0.4039 - accuracy: 0.8067 - val_loss: 0.4621 - val_accuracy: 0.8125\n",
      "Epoch 20/50\n",
      "238/238 [==============================] - 2s 9ms/sample - loss: 0.3749 - accuracy: 0.8319 - val_loss: 0.4527 - val_accuracy: 0.7625\n",
      "Epoch 21/50\n",
      "238/238 [==============================] - 2s 9ms/sample - loss: 0.3734 - accuracy: 0.8445 - val_loss: 0.4210 - val_accuracy: 0.8625\n",
      "Epoch 22/50\n",
      "238/238 [==============================] - 2s 9ms/sample - loss: 0.3823 - accuracy: 0.8487 - val_loss: 0.4162 - val_accuracy: 0.8250\n",
      "Epoch 23/50\n",
      "238/238 [==============================] - 2s 9ms/sample - loss: 0.3664 - accuracy: 0.8319 - val_loss: 0.4444 - val_accuracy: 0.8125\n",
      "Epoch 24/50\n",
      "238/238 [==============================] - 2s 9ms/sample - loss: 0.3476 - accuracy: 0.8824 - val_loss: 0.4087 - val_accuracy: 0.8125\n",
      "Epoch 25/50\n",
      "238/238 [==============================] - 2s 9ms/sample - loss: 0.3243 - accuracy: 0.8487 - val_loss: 0.3971 - val_accuracy: 0.8125\n",
      "Epoch 26/50\n",
      "238/238 [==============================] - 2s 9ms/sample - loss: 0.3239 - accuracy: 0.8445 - val_loss: 0.4316 - val_accuracy: 0.9750\n",
      "Epoch 27/50\n",
      "238/238 [==============================] - 2s 9ms/sample - loss: 0.3377 - accuracy: 0.8655 - val_loss: 0.3833 - val_accuracy: 0.8250\n",
      "Epoch 28/50\n",
      "238/238 [==============================] - 2s 9ms/sample - loss: 0.3368 - accuracy: 0.8487 - val_loss: 0.4672 - val_accuracy: 0.6000\n",
      "Epoch 29/50\n",
      "238/238 [==============================] - 2s 9ms/sample - loss: 0.3323 - accuracy: 0.8613 - val_loss: 0.4013 - val_accuracy: 0.8125\n",
      "Epoch 30/50\n",
      "238/238 [==============================] - 2s 9ms/sample - loss: 0.3191 - accuracy: 0.8824 - val_loss: 0.3768 - val_accuracy: 0.8375\n",
      "Epoch 31/50\n",
      "238/238 [==============================] - 2s 10ms/sample - loss: 0.3961 - accuracy: 0.8697 - val_loss: 0.4006 - val_accuracy: 0.7875\n",
      "Epoch 32/50\n",
      "238/238 [==============================] - 2s 9ms/sample - loss: 0.3202 - accuracy: 0.8782 - val_loss: 0.3699 - val_accuracy: 0.8625\n",
      "Epoch 33/50\n",
      "238/238 [==============================] - 2s 9ms/sample - loss: 0.2857 - accuracy: 0.9076 - val_loss: 0.3543 - val_accuracy: 0.8250\n",
      "Epoch 34/50\n",
      "238/238 [==============================] - 2s 9ms/sample - loss: 0.2816 - accuracy: 0.9118 - val_loss: 0.3469 - val_accuracy: 0.8625\n",
      "Epoch 35/50\n",
      "238/238 [==============================] - 2s 9ms/sample - loss: 0.2654 - accuracy: 0.9076 - val_loss: 0.3187 - val_accuracy: 0.8625\n",
      "Epoch 36/50\n",
      "238/238 [==============================] - 2s 9ms/sample - loss: 0.2665 - accuracy: 0.9202 - val_loss: 0.3140 - val_accuracy: 0.9000\n",
      "Epoch 37/50\n",
      "238/238 [==============================] - 2s 9ms/sample - loss: 0.2458 - accuracy: 0.9160 - val_loss: 0.2860 - val_accuracy: 0.9000\n",
      "Epoch 38/50\n",
      "238/238 [==============================] - 2s 9ms/sample - loss: 0.2441 - accuracy: 0.9244 - val_loss: 0.3053 - val_accuracy: 0.8625\n",
      "Epoch 39/50\n",
      "238/238 [==============================] - 2s 9ms/sample - loss: 0.2365 - accuracy: 0.9034 - val_loss: 0.3066 - val_accuracy: 0.9500\n",
      "Epoch 40/50\n",
      "238/238 [==============================] - 2s 9ms/sample - loss: 0.2241 - accuracy: 0.9496 - val_loss: 0.3348 - val_accuracy: 0.8250\n",
      "Epoch 41/50\n",
      "238/238 [==============================] - 2s 9ms/sample - loss: 0.2344 - accuracy: 0.9286 - val_loss: 0.2757 - val_accuracy: 0.8875\n",
      "Epoch 42/50\n",
      "238/238 [==============================] - 2s 9ms/sample - loss: 0.2181 - accuracy: 0.9244 - val_loss: 0.2686 - val_accuracy: 0.9625\n",
      "Epoch 43/50\n",
      "238/238 [==============================] - 2s 9ms/sample - loss: 0.2178 - accuracy: 0.9370 - val_loss: 0.2856 - val_accuracy: 0.8625\n",
      "Epoch 44/50\n",
      "238/238 [==============================] - 2s 9ms/sample - loss: 0.2047 - accuracy: 0.9412 - val_loss: 0.3295 - val_accuracy: 0.8250\n",
      "Epoch 45/50\n",
      "238/238 [==============================] - 2s 9ms/sample - loss: 0.2154 - accuracy: 0.9202 - val_loss: 0.2726 - val_accuracy: 0.8625\n",
      "Epoch 46/50\n",
      "238/238 [==============================] - 2s 9ms/sample - loss: 0.1918 - accuracy: 0.9370 - val_loss: 0.2393 - val_accuracy: 0.9375\n",
      "Epoch 47/50\n",
      "238/238 [==============================] - 2s 9ms/sample - loss: 0.1838 - accuracy: 0.9496 - val_loss: 0.2709 - val_accuracy: 0.9625\n",
      "Epoch 48/50\n",
      "238/238 [==============================] - 2s 9ms/sample - loss: 0.2001 - accuracy: 0.9244 - val_loss: 0.2340 - val_accuracy: 0.9000\n",
      "Epoch 49/50\n",
      "238/238 [==============================] - 2s 9ms/sample - loss: 0.1679 - accuracy: 0.9412 - val_loss: 0.2130 - val_accuracy: 0.9250\n",
      "Epoch 50/50\n",
      "238/238 [==============================] - 2s 9ms/sample - loss: 0.1690 - accuracy: 0.9370 - val_loss: 0.2219 - val_accuracy: 0.9375\n"
     ]
    }
   ],
   "source": [
    "history = model.fit(X_train, y_train, epochs = 50, validation_data= (X_test, y_test), verbose=1)"
   ]
  },
  {
   "cell_type": "code",
   "execution_count": 278,
   "metadata": {},
   "outputs": [],
   "source": [
    "import matplotlib.pyplot as plt\n",
    "def plot_learningCurve(history, epochs):\n",
    "  # Plot training & validation accuracy values\n",
    "  epoch_range = range(1, epochs+1)\n",
    "  plt.plot(epoch_range, history.history['accuracy'])\n",
    "  plt.plot(epoch_range, history.history['val_accuracy'])\n",
    "  plt.title('Model accuracy')\n",
    "  plt.ylabel('Accuracy')\n",
    "  plt.xlabel('Epoch')\n",
    "  plt.legend(['Train', 'Val'], loc='upper left')\n",
    "  plt.show()\n",
    "\n",
    "  # Plot training & validation loss values\n",
    "  plt.plot(epoch_range, history.history['loss'])\n",
    "  plt.plot(epoch_range, history.history['val_loss'])\n",
    "  plt.title('Model loss')\n",
    "  plt.ylabel('Loss')\n",
    "  plt.xlabel('Epoch')\n",
    "  plt.legend(['Train', 'Val'], loc='upper left')\n",
    "  plt.show()"
   ]
  },
  {
   "cell_type": "code",
   "execution_count": 313,
   "metadata": {},
   "outputs": [
    {
     "data": {
      "image/png": "[encoded data removed]",
      "text/plain": [
       "<Figure size 432x288 with 1 Axes>"
      ]
     },
     "metadata": {
      "needs_background": "light"
     },
     "output_type": "display_data"
    },
    {
     "data": {
      "image/png": "[encoded data removed]",
      "text/plain": [
       "<Figure size 432x288 with 1 Axes>"
      ]
     },
     "metadata": {
      "needs_background": "light"
     },
     "output_type": "display_data"
    }
   ],
   "source": [
    "plot_learningCurve(history, 50)"
   ]
  },
  {
   "cell_type": "code",
   "execution_count": 280,
   "metadata": {},
   "outputs": [
    {
     "data": {
      "text/plain": [
       "(6000, 3, 1)"
      ]
     },
     "execution_count": 280,
     "metadata": {},
     "output_type": "execute_result"
    }
   ],
   "source": [
    "X_test[0].shape"
   ]
  },
  {
   "cell_type": "code",
   "execution_count": 314,
   "metadata": {},
   "outputs": [],
   "source": [
    "prediction = model.predict_classes(X_val.reshape(X_val.shape[0],6000,3,1))"
   ]
  },
  {
   "cell_type": "code",
   "execution_count": 315,
   "metadata": {},
   "outputs": [
    {
     "data": {
      "text/plain": [
       "numpy.ndarray"
      ]
     },
     "execution_count": 315,
     "metadata": {},
     "output_type": "execute_result"
    }
   ],
   "source": [
    "type(prediction)"
   ]
  },
  {
   "cell_type": "code",
   "execution_count": 316,
   "metadata": {},
   "outputs": [
    {
     "data": {
      "text/plain": [
       "array([0, 1, 1, 1, 1, 0, 0, 0, 1, 0, 0, 1, 1, 1, 1, 1, 1, 1, 1, 1, 0, 1,\n",
       "       1, 0, 1, 0, 0, 1, 0, 1, 1, 1, 0, 1, 0, 0, 1, 0, 0, 0, 0, 1, 0, 0,\n",
       "       0, 0, 1, 0, 1, 0, 1, 1, 0, 1, 1, 0, 1, 0, 0, 0, 1, 1, 0, 1, 1, 0,\n",
       "       1, 1, 1, 1, 0, 0, 1, 0, 0, 1, 1, 1, 1, 1], dtype=int64)"
      ]
     },
     "execution_count": 316,
     "metadata": {},
     "output_type": "execute_result"
    }
   ],
   "source": [
    "prediction"
   ]
  },
  {
   "cell_type": "code",
   "execution_count": 317,
   "metadata": {},
   "outputs": [
    {
     "data": {
      "text/plain": [
       "array([0, 1, 1, 1, 1, 0, 0, 0, 0, 0, 0, 1, 1, 1, 1, 1, 0, 1, 1, 1, 0, 1,\n",
       "       1, 0, 1, 0, 0, 1, 0, 1, 1, 1, 0, 1, 0, 0, 1, 0, 0, 0, 0, 1, 0, 0,\n",
       "       0, 0, 1, 0, 1, 0, 1, 1, 0, 1, 1, 0, 1, 0, 0, 0, 0, 1, 0, 1, 1, 0,\n",
       "       0, 1, 1, 1, 0, 0, 1, 0, 0, 1, 1, 0, 1, 1])"
      ]
     },
     "execution_count": 317,
     "metadata": {},
     "output_type": "execute_result"
    }
   ],
   "source": [
    "y_val"
   ]
  },
  {
   "cell_type": "code",
   "execution_count": 318,
   "metadata": {},
   "outputs": [
    {
     "name": "stdout",
     "output_type": "stream",
     "text": [
      "[[35  5]\n",
      " [ 0 40]]\n"
     ]
    },
    {
     "data": {
      "image/png": "[encoded data removed]",
      "text/plain": [
       "<Figure size 432x288 with 2 Axes>"
      ]
     },
     "metadata": {
      "needs_background": "light"
     },
     "output_type": "display_data"
    }
   ],
   "source": [
    "from sklearn.metrics import confusion_matrix\n",
    "\n",
    "labels = ['Earthquake', 'Noise']\n",
    "cm = confusion_matrix(y_true=y_val, y_pred=prediction, labels=[0,1])\n",
    "print(cm)\n",
    "fig = plt.figure()\n",
    "ax = fig.add_subplot(111)\n",
    "cax = ax.matshow(cm)\n",
    "plt.title('Confusion matrix of the classifier')\n",
    "fig.colorbar(cax)\n",
    "fig.cmap=\"OrRd\"\n",
    "ax.set_xticklabels([''] + labels)\n",
    "ax.set_yticklabels([''] + labels)\n",
    "plt.xlabel('Predicted')\n",
    "plt.ylabel('True')\n",
    "plt.show()"
   ]
  },
  {
   "cell_type": "code",
   "execution_count": 147,
   "metadata": {},
   "outputs": [],
   "source": [
    "cm = confusion_matrix(y_val, prediction)"
   ]
  },
  {
   "cell_type": "code",
   "execution_count": 319,
   "metadata": {},
   "outputs": [
    {
     "name": "stdout",
     "output_type": "stream",
     "text": [
      "              precision    recall  f1-score   support\n",
      "\n",
      "           0       1.00      0.88      0.93        40\n",
      "           1       0.89      1.00      0.94        40\n",
      "\n",
      "    accuracy                           0.94        80\n",
      "   macro avg       0.94      0.94      0.94        80\n",
      "weighted avg       0.94      0.94      0.94        80\n",
      "\n"
     ]
    }
   ],
   "source": [
    "from sklearn.metrics import classification_report\n",
    "print(classification_report(y_val, prediction))"
   ]
  },
  {
   "cell_type": "markdown",
   "metadata": {},
   "source": [
    "### Saving Model"
   ]
  },
  {
   "cell_type": "code",
   "execution_count": 170,
   "metadata": {},
   "outputs": [],
   "source": [
    "model.save('models/cnn_5_13_20_16_56.h5')"
   ]
  },
  {
   "cell_type": "code",
   "execution_count": 151,
   "metadata": {},
   "outputs": [
    {
     "name": "stderr",
     "output_type": "stream",
     "text": [
      "Using TensorFlow backend.\n"
     ]
    }
   ],
   "source": [
    "import keras\n",
    "from keras.models import load_model\n",
    "pickled_cnn = tf.keras.models.load_model('models/cnn_5_12_20_15_01.h5')"
   ]
  },
  {
   "cell_type": "code",
   "execution_count": 220,
   "metadata": {},
   "outputs": [
    {
     "name": "stdout",
     "output_type": "stream",
     "text": [
      "Model: \"sequential_1\"\n",
      "_________________________________________________________________\n",
      "Layer (type)                 Output Shape              Param #   \n",
      "=================================================================\n",
      "conv2d_2 (Conv2D)            (None, 5999, 2, 16)       80        \n",
      "_________________________________________________________________\n",
      "dropout_3 (Dropout)          (None, 5999, 2, 16)       0         \n",
      "_________________________________________________________________\n",
      "conv2d_3 (Conv2D)            (None, 5998, 1, 32)       2080      \n",
      "_________________________________________________________________\n",
      "dropout_4 (Dropout)          (None, 5998, 1, 32)       0         \n",
      "_________________________________________________________________\n",
      "flatten_1 (Flatten)          (None, 191936)            0         \n",
      "_________________________________________________________________\n",
      "dense_2 (Dense)              (None, 64)                12283968  \n",
      "_________________________________________________________________\n",
      "dropout_5 (Dropout)          (None, 64)                0         \n",
      "_________________________________________________________________\n",
      "dense_3 (Dense)              (None, 1)                 65        \n",
      "=================================================================\n",
      "Total params: 12,286,193\n",
      "Trainable params: 12,286,193\n",
      "Non-trainable params: 0\n",
      "_________________________________________________________________\n"
     ]
    }
   ],
   "source": [
    "pickled_cnn.summary()"
   ]
  },
  {
   "cell_type": "code",
   "execution_count": null,
   "metadata": {},
   "outputs": [],
   "source": []
  },
  {
   "cell_type": "markdown",
   "metadata": {},
   "source": [
    "# Practice"
   ]
  },
  {
   "cell_type": "code",
   "execution_count": 96,
   "metadata": {},
   "outputs": [],
   "source": [
    "earthquake = X[0]"
   ]
  },
  {
   "cell_type": "code",
   "execution_count": 97,
   "metadata": {},
   "outputs": [],
   "source": [
    "noise = X[250]"
   ]
  },
  {
   "cell_type": "code",
   "execution_count": 294,
   "metadata": {},
   "outputs": [
    {
     "data": {
      "text/plain": [
       "(6000, 3)"
      ]
     },
     "execution_count": 294,
     "metadata": {},
     "output_type": "execute_result"
    }
   ],
   "source": [
    "earthquake.shape"
   ]
  },
  {
   "cell_type": "code",
   "execution_count": 95,
   "metadata": {},
   "outputs": [],
   "source": [
    "def plot_activity(activity, data):\n",
    "    fig, (ax0, ax1, ax2) = plt.subplots(nrows=3, figsize=(15, 7), sharex=True)\n",
    "    plot_axis(ax0, np.arange(0,6000), data[:,0], 'X-Axis')\n",
    "    plot_axis(ax1, np.arange(0,6000), data[:,1], 'Y-Axis')\n",
    "    plot_axis(ax2, np.arange(0,6000), data[:,2], 'Z-Axis')\n",
    "    plt.subplots_adjust(hspace=0.2) #vertical space between sub-plots\n",
    "    fig.suptitle(activity)\n",
    "    plt.subplots_adjust(top=0.90) #vertical space between plots and it's upper boundary \n",
    "    plt.show()\n",
    "    #plt.savefig('plots/waveforms.png')\n",
    "\n",
    "def plot_axis(ax, x, y, title):\n",
    "    ax.plot(x, y, 'g')\n",
    "    ax.set_title(title)\n",
    "    ax.xaxis.set_visible(False) # hides vcertical lines perpendicular to x-axis\n",
    "    ax.set_ylim([min(y) - np.std(y), max(y) + np.std(y)]) #shrinks graph along y-axis\n",
    "    ax.set_xlim([min(x), max(x)]) #shrinks graph along x-axis\n",
    "    ax.grid(True) #display line grids"
   ]
  },
  {
   "cell_type": "code",
   "execution_count": 98,
   "metadata": {},
   "outputs": [
    {
     "data": {
      "image/png": "[encoded data removed]",
      "text/plain": [
       "<Figure size 1080x504 with 3 Axes>"
      ]
     },
     "metadata": {
      "needs_background": "light"
     },
     "output_type": "display_data"
    },
    {
     "data": {
      "image/png": "[encoded data removed]",
      "text/plain": [
       "<Figure size 1080x504 with 3 Axes>"
      ]
     },
     "metadata": {
      "needs_background": "light"
     },
     "output_type": "display_data"
    }
   ],
   "source": [
    "plot_activity('Earthquake', earthquake)\n",
    "plot_activity('Noise', noise)"
   ]
  }
 ],
 "metadata": {
  "kernelspec": {
   "display_name": "Python 3",
   "language": "python",
   "name": "python3"
  },
  "language_info": {
   "codemirror_mode": {
    "name": "ipython",
    "version": 3
   },
   "file_extension": ".py",
   "mimetype": "text/x-python",
   "name": "python",
   "nbconvert_exporter": "python",
   "pygments_lexer": "ipython3",
   "version": "3.7.4"
  }
 },
 "nbformat": 4,
 "nbformat_minor": 2
}
